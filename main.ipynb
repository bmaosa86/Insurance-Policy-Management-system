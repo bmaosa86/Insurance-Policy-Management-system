{
 "cells": [
  {
   "cell_type": "code",
   "execution_count": 2,
   "id": "0afc4666-542d-4394-b3da-4c4952626c4d",
   "metadata": {},
   "outputs": [
    {
     "name": "stdout",
     "output_type": "stream",
     "text": [
      "Policyholder Benjamin Maosa has been registered.\n",
      "Policyholder Flo Kimani has been registered.\n",
      "Product 'Life Insurance' created with ID 101.\n",
      "Product Life Insurance added to Benjamin Maosa's account.\n",
      "Product Life Insurance added to Flo Kimani's account.\n",
      "Payment of 200 processed for Benjamin Maosa.\n",
      "Payment of 300 processed for Flo Kimani.\n",
      "Policyholder: Benjamin Maosa (ID: 1)\n",
      "Status: active\n",
      "Products: ['Life Insurance']\n",
      "Payment Status: {'Benjamin Maosa': 'Paid'}\n",
      "Policyholder: Flo Kimani (ID: 2)\n",
      "Status: active\n",
      "Products: ['Life Insurance']\n",
      "Payment Status: {'Flo Kimani': 'Paid'}\n"
     ]
    }
   ],
   "source": [
    "# Demonstration\n",
    "from policyholder import Policyholder\n",
    "from product import Product\n",
    "from payment import Payment\n",
    "\n",
    "# Create policyholders\n",
    "policyholder1 = Policyholder(\"Benjamin Maosa\", 1)\n",
    "policyholder2 = Policyholder(\"Flo Kimani\", 2)\n",
    "\n",
    "# Register policyholders\n",
    "policyholder1.register()\n",
    "policyholder2.register()\n",
    "\n",
    "# Create a product\n",
    "life_insurance = Product(\"Life Insurance\", 101)\n",
    "life_insurance.create_product()\n",
    "\n",
    "# Assign the product to policyholders\n",
    "policyholder1.add_product(life_insurance)\n",
    "policyholder2.add_product(life_insurance)\n",
    "\n",
    "# Process payments for both policyholders\n",
    "payment1 = Payment(200, policyholder1)\n",
    "payment2 = Payment(300, policyholder2)\n",
    "\n",
    "payment1.process_payment()\n",
    "payment2.process_payment()\n",
    "\n",
    "# Display policyholder details\n",
    "policyholder1.display_details()\n",
    "policyholder2.display_details()\n"
   ]
  },
  {
   "cell_type": "code",
   "execution_count": null,
   "id": "23f04541-5e0c-4add-a9e1-2c8b76a3703c",
   "metadata": {},
   "outputs": [],
   "source": []
  }
 ],
 "metadata": {
  "kernelspec": {
   "display_name": "Python 3 (ipykernel)",
   "language": "python",
   "name": "python3"
  },
  "language_info": {
   "codemirror_mode": {
    "name": "ipython",
    "version": 3
   },
   "file_extension": ".py",
   "mimetype": "text/x-python",
   "name": "python",
   "nbconvert_exporter": "python",
   "pygments_lexer": "ipython3",
   "version": "3.12.5"
  }
 },
 "nbformat": 4,
 "nbformat_minor": 5
}
